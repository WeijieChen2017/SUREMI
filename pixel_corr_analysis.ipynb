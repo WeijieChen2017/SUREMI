{
 "cells": [
  {
   "cell_type": "code",
   "execution_count": 78,
   "id": "14576762",
   "metadata": {},
   "outputs": [],
   "source": [
    "import os\n",
    "import glob\n",
    "import time\n",
    "import numpy as np\n",
    "import pandas as pd\n",
    "import nibabel as nib\n",
    "import matplotlib.pyplot as plt\n",
    "from externel import seaborn as sns\n",
    "\n",
    "def bin_CT(img, n_bins=1024):\n",
    "#     data_vector = np.ravel(img)\n",
    "    data_max = np.amax(data_vector)\n",
    "    data_min = np.amin(data_vector)\n",
    "    # print(data_max, data_min)\n",
    "    data_squeezed = (data_vector-data_min)/(data_max-data_min)\n",
    "    data_extended = data_squeezed * n_bins\n",
    "    data_discrete = data_extended // 1\n",
    "#     print(data_discrete.shape)\n",
    "    return np.asarray(list(data_discrete), dtype=np.int64)\n",
    "\n",
    "train_dict = {}\n",
    "train_dict[\"time_stamp\"] = time.strftime(\"%Y-%m-%d_%H:%M:%S\", time.localtime())\n",
    "train_dict[\"project_name\"] = \"pixel_correlation\"\n",
    "train_dict[\"save_folder\"] = \"./project_dir/\"+train_dict[\"project_name\"]+\"/\"\n",
    "\n",
    "train_dict[\"folder_X\"] = \"./data_dir/norm_MR/regular/\"\n",
    "train_dict[\"folder_Y\"] = \"./data_dir/norm_CT_2/regular/\"\n",
    "\n",
    "X_list = sorted(glob.glob(train_dict[\"folder_X\"]+\"*.nii.gz\"))\n",
    "Y_list = sorted(glob.glob(train_dict[\"folder_Y\"]+\"*.nii.gz\"))"
   ]
  },
  {
   "cell_type": "markdown",
   "id": "1553e0c4",
   "metadata": {},
   "source": [
    "# whole marginal distribution"
   ]
  },
  {
   "cell_type": "code",
   "execution_count": 103,
   "id": "e693c5f1",
   "metadata": {},
   "outputs": [
    {
     "data": {
      "text/plain": [
       "<Figure size 14400x14400 with 0 Axes>"
      ]
     },
     "metadata": {},
     "output_type": "display_data"
    }
   ],
   "source": [
    "n_bin = 128\n",
    "pixel_corr_sum = np.zeros((n_bin, n_bin))\n",
    "\n",
    "for cnt_file, file_path in enumerate(X_list):\n",
    "    file_name = os.path.basename(file_path)\n",
    "#     print(file_name)\n",
    "    pixel_corr_curr = np.load(train_dict[\"save_folder\"]+file_name[:-7]+\"_pix_cor.npy\")\n",
    "    pixel_corr_sum += pixel_corr_curr\n",
    "#     print(np.std(pixel_corr_curr))\n",
    "\n",
    "for ix in range(n_bin):\n",
    "    temp_sum = np.sum(pixel_corr_sum[ix, :])\n",
    "    if not temp_sum == 0.0:\n",
    "        pixel_corr_sum[ix, :] = pixel_corr_sum[ix, :] / np.sum(pixel_corr_sum[ix, :])\n",
    "\n",
    "loc_x = np.zeros((n_bin)*(n_bin))\n",
    "loc_y = np.zeros((n_bin)*(n_bin))\n",
    "pc_ft = np.zeros((n_bin)*(n_bin))\n",
    "for idx in range(n_bin):\n",
    "    for idy in range(n_bin):\n",
    "        flatten = idx*n_bin + idy\n",
    "        loc_x[flatten] = idx\n",
    "        loc_y[flatten] = idy\n",
    "        pc_ft[flatten] = pixel_corr_sum[idx, idy]\n",
    "\n",
    "corr_mat = pd.DataFrame({\"X\":loc_x, \"Y\":loc_y, \"counts\":pc_ft})\n",
    "\n",
    "plt.figure(figsize=(12, 12), dpi=1200)\n",
    "g = sns.relplot(\n",
    "    data=corr_mat,\n",
    "    x=\"X\", y=\"Y\", hue=\"counts\",\n",
    "    palette=\"vlag\", hue_norm=(-1, 1), edgecolor=\".7\",\n",
    "    height=10, sizes=(50, 250), size_norm=(-.2, .8),\n",
    ")\n",
    "\n",
    "# Tweak the figure to finalize\n",
    "g.set(xlabel=\"MR\", ylabel=\"CT\", aspect=\"equal\")\n",
    "g.despine(left=True, bottom=True)\n",
    "g.ax.margins(.02)\n",
    "for label in g.ax.get_xticklabels():\n",
    "    label.set_rotation(90)\n",
    "for artist in g.legend.legendHandles:\n",
    "    artist.set_edgecolor(\".7\")\n",
    "\n",
    "# plt.figure(figsize=(12, 12), dpi=1200)\n",
    "# plt.imshow(pixel_corr_sum, cmap='BrBG')\n",
    "\n",
    "np.save(train_dict[\"save_folder\"]+\"whole_pix_cor.npy\", pixel_corr)\n",
    "plt.savefig(train_dict[\"save_folder\"]+\"whole_pix_cor.png\")\n",
    "plt.close()   "
   ]
  },
  {
   "cell_type": "code",
   "execution_count": 104,
   "id": "3a320a20",
   "metadata": {},
   "outputs": [
    {
     "name": "stdout",
     "output_type": "stream",
     "text": [
      "(128, 128)\n"
     ]
    }
   ],
   "source": [
    "print(pixel_corr_sum.shape)"
   ]
  },
  {
   "cell_type": "code",
   "execution_count": 135,
   "id": "3da42e47",
   "metadata": {},
   "outputs": [],
   "source": [
    "n_col = 8\n",
    "\n",
    "for idx_c in range(n_bin // n_col):\n",
    "    plt.figure(figsize=(4, 8), dpi=150)\n",
    "    for idx in range(n_col):\n",
    "        plt.subplot(n_col, 1, idx+1)\n",
    "        plt.scatter(np.asarray(range(n_bin)), pixel_corr_sum[idx+idx_c*n_col, :], s=1)\n",
    "        plt.title(str(idx+idx_c*n_col), loc='left')\n",
    "        plt.axis(\"off\")\n",
    "    plt.savefig(train_dict[\"save_folder\"]+\"margin\"+str(idx_c)+\"_pix_cor.png\")\n",
    "    plt.close('all')"
   ]
  },
  {
   "cell_type": "code",
   "execution_count": 138,
   "id": "7242a4b5",
   "metadata": {},
   "outputs": [
    {
     "data": {
      "text/plain": [
       "1.0"
      ]
     },
     "execution_count": 138,
     "metadata": {},
     "output_type": "execute_result"
    }
   ],
   "source": [
    "np.sum(pixel_corr_sum[7, :])"
   ]
  },
  {
   "cell_type": "markdown",
   "id": "7d62ae1e",
   "metadata": {},
   "source": [
    "# sample the given probability"
   ]
  },
  {
   "cell_type": "code",
   "execution_count": 139,
   "id": "9d232763",
   "metadata": {},
   "outputs": [],
   "source": [
    "import random\n",
    "\n",
    "def random_pick(some_list,probabilities):\n",
    "    x = random.uniform(0,1)\n",
    "    cumulative_probability=0.0\n",
    "    for item, item_probability in zip(some_list,probabilities):\n",
    "        cumulative_probability+=item_probability\n",
    "        if x < cumulative_probability:\n",
    "            break\n",
    "    return item"
   ]
  },
  {
   "cell_type": "code",
   "execution_count": 142,
   "id": "05263ff4",
   "metadata": {},
   "outputs": [
    {
     "name": "stdout",
     "output_type": "stream",
     "text": [
      "2\n",
      "23\n",
      "1\n",
      "0\n",
      "103\n",
      "39\n",
      "1\n",
      "106\n",
      "1\n",
      "2\n"
     ]
    }
   ],
   "source": [
    "MR_value = 6\n",
    "\n",
    "for idx in range(10):\n",
    "    print(random_pick(np.asarray(range(n_bin)),pixel_corr_sum[MR_value, :]))"
   ]
  },
  {
   "cell_type": "code",
   "execution_count": 143,
   "id": "64179cf6",
   "metadata": {},
   "outputs": [
    {
     "name": "stdout",
     "output_type": "stream",
     "text": [
      "---> ./data_dir/norm_MR/regular/NORM_097.nii.gz <---\n"
     ]
    }
   ],
   "source": [
    "file_name = os.path.basename(file_path)\n",
    "cube_x_path = file_path\n",
    "cube_y_path = train_dict[\"folder_Y\"] + file_name\n",
    "print(\"--->\",cube_x_path,\"<---\")\n",
    "cube_x_data = nib.load(cube_x_path).get_fdata()\n",
    "cube_y_data = nib.load(cube_y_path).get_fdata()\n",
    "len_x, len_y, len_z = cube_x_data.shape\n",
    "X_discrete = bin_CT(cube_x_data, n_bins=n_bin-1)\n",
    "Y_discrete = bin_CT(cube_y_data, n_bins=n_bin-1)\n",
    "pred = np.zeros(cube_y_data.shape)"
   ]
  },
  {
   "cell_type": "code",
   "execution_count": 144,
   "id": "2117c7c7",
   "metadata": {},
   "outputs": [],
   "source": [
    "mesh_x = np.asarray(range(n_bin))\n",
    "\n",
    "\n",
    "for idx in range(len_x):\n",
    "    for idy in range(len_y):\n",
    "        for idz in range(len_z):\n",
    "#             flatten = idx*(len_y*len_z)+idy*len_z+idz\n",
    "#             pred[idx, idy, idz] = mle_map_value[Y_discrete[idx, idy, idz]]\n",
    "#             if X_discrete[idx, idy, idz] == 6:\n",
    "            MR_value = X_discrete[idx, idy, idz]\n",
    "            pred[idx, idy, idz] = random_pick(mesh_x, pixel_corr_sum[MR_value, :])"
   ]
  },
  {
   "cell_type": "code",
   "execution_count": 145,
   "id": "072efc51",
   "metadata": {},
   "outputs": [],
   "source": [
    "pred_file = nib.Nifti1Image(pred, nib.load(cube_x_path).affine, nib.load(cube_x_path).header)\n",
    "pred_name = file_name[:-7]+\"_CT_prob_sample.nii.gz\"\n",
    "nib.save(pred_file, pred_name)"
   ]
  },
  {
   "cell_type": "code",
   "execution_count": null,
   "id": "9123b9dc",
   "metadata": {},
   "outputs": [],
   "source": []
  },
  {
   "cell_type": "markdown",
   "id": "9e5bbaba",
   "metadata": {},
   "source": [
    "# MLE"
   ]
  },
  {
   "cell_type": "code",
   "execution_count": null,
   "id": "e02a6df4",
   "metadata": {},
   "outputs": [],
   "source": []
  },
  {
   "cell_type": "code",
   "execution_count": 43,
   "id": "3583273d",
   "metadata": {},
   "outputs": [],
   "source": [
    "mle_map_prob = np.zeros((n_bin))\n",
    "mle_map_value = np.zeros((n_bin))\n",
    "\n",
    "for idx in range(n_bin):\n",
    "    mle_map_prob[idx] = np.amax(pixel_corr_sum[idx, :])\n",
    "    mle_map_value[idx] = np.where(pixel_corr_sum[idx, :]==mle_map_prob[idx])[0]\n",
    "    pixel_corr_sum[idx, :][pixel_corr_sum[idx, :] < mle_map_prob[idx]] = 0\n",
    "    pixel_corr_sum[idx, :][pixel_corr_sum[idx, :] >= mle_map_prob[idx]] = 1"
   ]
  },
  {
   "cell_type": "code",
   "execution_count": 44,
   "id": "d1afc8ed",
   "metadata": {},
   "outputs": [
    {
     "data": {
      "text/plain": [
       "array([ 0.,  0.,  0.,  0.,  0.,  0.,  0.,  0., 41., 41., 41., 41., 41.,\n",
       "       41., 41., 41., 41., 41., 41., 41., 41., 41., 41., 41., 41., 41.,\n",
       "       42., 42., 42., 42., 42., 42., 42., 42., 42., 42., 41., 41., 41.,\n",
       "       41., 41., 41., 41., 41., 41., 41., 41., 41., 41., 41., 41., 41.,\n",
       "       41., 41., 41., 41., 41., 41., 41., 41., 41., 41., 41., 38., 38.,\n",
       "       38., 38., 38., 37., 37., 37., 37., 37., 37., 37., 37., 37., 37.,\n",
       "       37., 37., 37., 37., 37., 37., 37., 37., 37., 37., 36., 36., 36.,\n",
       "       36., 36., 36., 36., 36., 36., 36., 36., 36., 36., 36., 36., 36.,\n",
       "       36., 36., 36., 36., 36., 36., 36., 36., 36., 36., 36., 36., 36.,\n",
       "       36., 36., 37., 36., 37., 36., 37., 37., 37., 37., 37.])"
      ]
     },
     "execution_count": 44,
     "metadata": {},
     "output_type": "execute_result"
    }
   ],
   "source": [
    "mle_map_value"
   ]
  },
  {
   "cell_type": "code",
   "execution_count": 46,
   "id": "30c0bfbb",
   "metadata": {
    "scrolled": true
   },
   "outputs": [
    {
     "data": {
      "text/plain": [
       "<Figure size 14400x14400 with 0 Axes>"
      ]
     },
     "metadata": {},
     "output_type": "display_data"
    }
   ],
   "source": [
    "mle_map_prob = np.zeros((n_bin))\n",
    "mle_map_value = np.zeros((n_bin))\n",
    "\n",
    "for idx in range(n_bin):\n",
    "    mle_map_prob[idx] = np.amax(pixel_corr_sum[idx, :])\n",
    "    mle_map_value[idx] = np.where(pixel_corr_sum[idx, :]==mle_map_prob[idx])[0]\n",
    "    pixel_corr_sum[idx, :][pixel_corr_sum[idx, :] < mle_map_prob[idx]] = 0\n",
    "    pixel_corr_sum[idx, :][pixel_corr_sum[idx, :] >= mle_map_prob[idx]] = 1\n",
    "\n",
    "loc_x = np.zeros((n_bin)*(n_bin))\n",
    "loc_y = np.zeros((n_bin)*(n_bin))\n",
    "pc_ft = np.zeros((n_bin)*(n_bin))\n",
    "for idx in range(n_bin):\n",
    "    for idy in range(n_bin):\n",
    "        flatten = idx*n_bin + idy\n",
    "        loc_x[flatten] = idx\n",
    "        loc_y[flatten] = idy\n",
    "        pc_ft[flatten] = pixel_corr_sum[idx, idy]\n",
    "\n",
    "corr_mat = pd.DataFrame({\"X\":loc_x, \"Y\":loc_y, \"counts\":pc_ft})\n",
    "\n",
    "plt.figure(figsize=(12, 12), dpi=1200)\n",
    "g = sns.relplot(\n",
    "    data=corr_mat,\n",
    "    x=\"X\", y=\"Y\", hue=\"counts\",\n",
    "    palette=\"vlag\", hue_norm=(-1, 1), edgecolor=\".7\",\n",
    "    height=10, sizes=(50, 250), size_norm=(-.2, .8),\n",
    ")\n",
    "\n",
    "# Tweak the figure to finalize\n",
    "g.set(xlabel=\"MR\", ylabel=\"CT\", aspect=\"equal\")\n",
    "g.despine(left=True, bottom=True)\n",
    "g.ax.margins(.02)\n",
    "for label in g.ax.get_xticklabels():\n",
    "    label.set_rotation(90)\n",
    "for artist in g.legend.legendHandles:\n",
    "    artist.set_edgecolor(\".7\")\n",
    "\n",
    "np.save(train_dict[\"save_folder\"]+\"mle_pix_cor.npy\", pixel_corr)\n",
    "plt.savefig(train_dict[\"save_folder\"]+\"mle_pix_cor.png\")\n",
    "plt.close()   "
   ]
  },
  {
   "cell_type": "code",
   "execution_count": 62,
   "id": "510128f5",
   "metadata": {},
   "outputs": [
    {
     "data": {
      "text/plain": [
       "'./data_dir/norm_MR/regular/NORM_097.nii.gz'"
      ]
     },
     "execution_count": 62,
     "metadata": {},
     "output_type": "execute_result"
    }
   ],
   "source": [
    "file_path"
   ]
  },
  {
   "cell_type": "code",
   "execution_count": 108,
   "id": "0f5be99d",
   "metadata": {},
   "outputs": [
    {
     "name": "stdout",
     "output_type": "stream",
     "text": [
      "---> ./data_dir/norm_MR/regular/NORM_097.nii.gz <---\n"
     ]
    }
   ],
   "source": [
    "file_name = os.path.basename(file_path)\n",
    "cube_x_path = file_path\n",
    "cube_y_path = train_dict[\"folder_Y\"] + file_name\n",
    "print(\"--->\",cube_x_path,\"<---\")\n",
    "cube_x_data = nib.load(cube_x_path).get_fdata()\n",
    "cube_y_data = nib.load(cube_y_path).get_fdata()\n",
    "len_x, len_y, len_z = cube_x_data.shape\n",
    "X_discrete = bin_CT(cube_x_data, n_bins=n_bin-1)\n",
    "Y_discrete = bin_CT(cube_y_data, n_bins=n_bin-1)\n",
    "pred = np.zeros(cube_y_data.shape)"
   ]
  },
  {
   "cell_type": "code",
   "execution_count": 111,
   "id": "5570e724",
   "metadata": {},
   "outputs": [],
   "source": [
    "for idx in range(len_x):\n",
    "    for idy in range(len_y):\n",
    "        for idz in range(len_z):\n",
    "#             flatten = idx*(len_y*len_z)+idy*len_z+idz\n",
    "#             pred[idx, idy, idz] = mle_map_value[Y_discrete[idx, idy, idz]]\n",
    "            if X_discrete[idx, idy, idz] == 6:\n",
    "                pred[idx, idy, idz] = Y_discrete[idx, idy, idz]"
   ]
  },
  {
   "cell_type": "code",
   "execution_count": 112,
   "id": "469163df",
   "metadata": {},
   "outputs": [],
   "source": [
    "pred_file = nib.Nifti1Image(pred, nib.load(cube_x_path).affine, nib.load(cube_x_path).header)\n",
    "pred_name = file_name[:-7]+\"_CT_D6.nii.gz\"\n",
    "nib.save(pred_file, pred_name)"
   ]
  },
  {
   "cell_type": "code",
   "execution_count": 76,
   "id": "0318ba61",
   "metadata": {},
   "outputs": [],
   "source": [
    "data = cube_y_data\n",
    "data_max = np.amax(data)\n",
    "data_min = np.amin(data)\n",
    "# print(data_max, data_min)\n",
    "data_squeezed = (data-data_min)/(data_max-data_min)\n",
    "data_extended = data_squeezed * n_bin\n",
    "data_discrete = data_extended // 1"
   ]
  },
  {
   "cell_type": "code",
   "execution_count": 77,
   "id": "eb1e5f3c",
   "metadata": {},
   "outputs": [
    {
     "data": {
      "text/plain": [
       "(array([5.186328e+06, 1.283880e+06, 6.301280e+05, 1.443080e+05,\n",
       "        3.376360e+05, 2.438500e+05, 1.103200e+05, 5.906700e+04,\n",
       "        4.150200e+04, 2.897200e+04, 2.270500e+04, 1.813000e+04,\n",
       "        1.464300e+04, 1.304900e+04, 1.155200e+04, 1.076800e+04,\n",
       "        1.039800e+04, 1.001900e+04, 1.000300e+04, 9.889000e+03,\n",
       "        9.927000e+03, 1.023900e+04, 9.960000e+03, 9.671000e+03,\n",
       "        9.736000e+03, 9.475000e+03, 9.081000e+03, 8.795000e+03,\n",
       "        8.824000e+03, 8.859000e+03, 8.676000e+03, 8.801000e+03,\n",
       "        9.129000e+03, 9.402000e+03, 1.130900e+04, 4.068300e+04,\n",
       "        8.197600e+04, 1.007600e+05, 1.114960e+05, 2.217590e+05,\n",
       "        1.262095e+06, 9.418710e+05, 1.248170e+05, 3.293600e+04,\n",
       "        2.306300e+04, 1.938600e+04, 1.690800e+04, 1.560100e+04,\n",
       "        1.410500e+04, 1.364500e+04, 1.469800e+04, 1.645900e+04,\n",
       "        1.358100e+04, 9.387000e+03, 8.676000e+03, 8.233000e+03,\n",
       "        8.231000e+03, 7.973000e+03, 7.889000e+03, 7.575000e+03,\n",
       "        7.478000e+03, 7.465000e+03, 7.281000e+03, 7.117000e+03,\n",
       "        7.269000e+03, 7.129000e+03, 7.009000e+03, 6.873000e+03,\n",
       "        7.047000e+03, 6.919000e+03, 6.942000e+03, 6.896000e+03,\n",
       "        6.982000e+03, 6.847000e+03, 7.049000e+03, 7.044000e+03,\n",
       "        7.154000e+03, 7.256000e+03, 7.371000e+03, 7.527000e+03,\n",
       "        7.730000e+03, 7.847000e+03, 8.224000e+03, 8.319000e+03,\n",
       "        8.742000e+03, 9.042000e+03, 9.097000e+03, 9.650000e+03,\n",
       "        1.009100e+04, 1.096000e+04, 1.127700e+04, 1.177800e+04,\n",
       "        1.276500e+04, 1.322100e+04, 1.392200e+04, 1.419200e+04,\n",
       "        1.462400e+04, 1.463400e+04, 1.450900e+04, 1.424500e+04,\n",
       "        1.367500e+04, 1.305100e+04, 1.255400e+04, 1.160300e+04,\n",
       "        1.110700e+04, 1.021300e+04, 8.736000e+03, 6.951000e+03,\n",
       "        4.795000e+03, 2.379000e+03, 7.310000e+02, 2.090000e+02,\n",
       "        1.670000e+02, 1.360000e+02, 1.170000e+02, 1.410000e+02,\n",
       "        1.280000e+02, 1.010000e+02, 1.120000e+02, 9.000000e+01,\n",
       "        6.800000e+01, 6.400000e+01, 3.700000e+01, 1.600000e+01,\n",
       "        6.000000e+00, 6.000000e+00, 0.000000e+00, 1.000000e+00]),\n",
       " array([  0.,   1.,   2.,   3.,   4.,   5.,   6.,   7.,   8.,   9.,  10.,\n",
       "         11.,  12.,  13.,  14.,  15.,  16.,  17.,  18.,  19.,  20.,  21.,\n",
       "         22.,  23.,  24.,  25.,  26.,  27.,  28.,  29.,  30.,  31.,  32.,\n",
       "         33.,  34.,  35.,  36.,  37.,  38.,  39.,  40.,  41.,  42.,  43.,\n",
       "         44.,  45.,  46.,  47.,  48.,  49.,  50.,  51.,  52.,  53.,  54.,\n",
       "         55.,  56.,  57.,  58.,  59.,  60.,  61.,  62.,  63.,  64.,  65.,\n",
       "         66.,  67.,  68.,  69.,  70.,  71.,  72.,  73.,  74.,  75.,  76.,\n",
       "         77.,  78.,  79.,  80.,  81.,  82.,  83.,  84.,  85.,  86.,  87.,\n",
       "         88.,  89.,  90.,  91.,  92.,  93.,  94.,  95.,  96.,  97.,  98.,\n",
       "         99., 100., 101., 102., 103., 104., 105., 106., 107., 108., 109.,\n",
       "        110., 111., 112., 113., 114., 115., 116., 117., 118., 119., 120.,\n",
       "        121., 122., 123., 124., 125., 126., 127., 128.]),\n",
       " <a list of 128 Patch objects>)"
      ]
     },
     "execution_count": 77,
     "metadata": {},
     "output_type": "execute_result"
    },
    {
     "data": {
      "image/png": "[encoded data removed]",
      "text/plain": [
       "<Figure size 2400x2400 with 1 Axes>"
      ]
     },
     "metadata": {
      "needs_background": "light"
     },
     "output_type": "display_data"
    }
   ],
   "source": [
    "data = np.asarray(list(data_discrete), dtype=np.int64)\n",
    "plt.figure(figsize=(8, 8), dpi=300)\n",
    "plt.hist(np.ravel(data_discrete), bins=n_bin)"
   ]
  },
  {
   "cell_type": "markdown",
   "id": "7d311c8c",
   "metadata": {},
   "source": [
    "# Std"
   ]
  },
  {
   "cell_type": "code",
   "execution_count": 24,
   "id": "62deb46d",
   "metadata": {},
   "outputs": [
    {
     "data": {
      "text/plain": [
       "<Figure size 14400x14400 with 0 Axes>"
      ]
     },
     "metadata": {},
     "output_type": "display_data"
    }
   ],
   "source": [
    "n_bin = 128\n",
    "pixel_corr_std = np.zeros((n_bin, n_bin, len(X_list)))\n",
    "\n",
    "for cnt_file, file_path in enumerate(X_list):\n",
    "    file_name = os.path.basename(file_path)\n",
    "    pixel_corr_std[:, :, cnt_file] = np.load(train_dict[\"save_folder\"]+file_name[:-7]+\"_pix_cor.npy\")\n",
    "\n",
    "pixel_corr_std = np.std(pixel_corr_std, axis=2)\n",
    "\n",
    "loc_x = np.zeros((n_bin)*(n_bin))\n",
    "loc_y = np.zeros((n_bin)*(n_bin))\n",
    "pc_ft = np.zeros((n_bin)*(n_bin))\n",
    "for idx in range(n_bin):\n",
    "    for idy in range(n_bin):\n",
    "        flatten = idx*n_bin + idy\n",
    "        loc_x[flatten] = idx\n",
    "        loc_y[flatten] = idy\n",
    "        pc_ft[flatten] = pixel_corr_std[idx, idy]\n",
    "\n",
    "corr_mat = pd.DataFrame({\"X\":loc_x, \"Y\":loc_y, \"counts\":pc_ft})\n",
    "\n",
    "plt.figure(figsize=(12, 12), dpi=1200)\n",
    "g = sns.relplot(\n",
    "    data=corr_mat,\n",
    "    x=\"X\", y=\"Y\", hue=\"counts\",\n",
    "    palette=\"vlag\", hue_norm=(-1, 1), edgecolor=\".7\",\n",
    "    height=10, sizes=(50, 250), size_norm=(-.2, .8),\n",
    ")\n",
    "\n",
    "# Tweak the figure to finalize\n",
    "g.set(xlabel=\"MR\", ylabel=\"CT\", aspect=\"equal\")\n",
    "g.despine(left=True, bottom=True)\n",
    "g.ax.margins(.02)\n",
    "for label in g.ax.get_xticklabels():\n",
    "    label.set_rotation(90)\n",
    "for artist in g.legend.legendHandles:\n",
    "    artist.set_edgecolor(\".7\")\n",
    "\n",
    "np.save(train_dict[\"save_folder\"]+\"std_pix_cor.npy\", pixel_corr)\n",
    "plt.savefig(train_dict[\"save_folder\"]+\"std_pix_cor.png\")\n",
    "plt.close()   "
   ]
  },
  {
   "cell_type": "code",
   "execution_count": null,
   "id": "9c03e9e4",
   "metadata": {},
   "outputs": [],
   "source": []
  },
  {
   "cell_type": "code",
   "execution_count": null,
   "id": "957a5cbb",
   "metadata": {},
   "outputs": [],
   "source": []
  },
  {
   "cell_type": "code",
   "execution_count": null,
   "id": "1fb340b1",
   "metadata": {},
   "outputs": [],
   "source": []
  },
  {
   "cell_type": "code",
   "execution_count": null,
   "id": "4653dba3",
   "metadata": {},
   "outputs": [],
   "source": []
  },
  {
   "cell_type": "code",
   "execution_count": 92,
   "id": "e2b76034",
   "metadata": {},
   "outputs": [
    {
     "name": "stdout",
     "output_type": "stream",
     "text": [
      "---> ./data_dir/norm_MR/regular/NORM_001.nii.gz <---\n",
      "---> ./data_dir/norm_MR/regular/NORM_002.nii.gz <---\n",
      "---> ./data_dir/norm_MR/regular/NORM_003.nii.gz <---\n",
      "---> ./data_dir/norm_MR/regular/NORM_004.nii.gz <---\n",
      "---> ./data_dir/norm_MR/regular/NORM_005.nii.gz <---\n",
      "---> ./data_dir/norm_MR/regular/NORM_006.nii.gz <---\n",
      "---> ./data_dir/norm_MR/regular/NORM_007.nii.gz <---\n",
      "---> ./data_dir/norm_MR/regular/NORM_008.nii.gz <---\n",
      "---> ./data_dir/norm_MR/regular/NORM_010.nii.gz <---\n",
      "---> ./data_dir/norm_MR/regular/NORM_011.nii.gz <---\n",
      "---> ./data_dir/norm_MR/regular/NORM_012.nii.gz <---\n",
      "---> ./data_dir/norm_MR/regular/NORM_013.nii.gz <---\n",
      "---> ./data_dir/norm_MR/regular/NORM_014.nii.gz <---\n",
      "---> ./data_dir/norm_MR/regular/NORM_015.nii.gz <---\n",
      "---> ./data_dir/norm_MR/regular/NORM_017.nii.gz <---\n",
      "---> ./data_dir/norm_MR/regular/NORM_018.nii.gz <---\n",
      "---> ./data_dir/norm_MR/regular/NORM_019.nii.gz <---\n",
      "---> ./data_dir/norm_MR/regular/NORM_020.nii.gz <---\n",
      "---> ./data_dir/norm_MR/regular/NORM_022.nii.gz <---\n",
      "---> ./data_dir/norm_MR/regular/NORM_023.nii.gz <---\n",
      "---> ./data_dir/norm_MR/regular/NORM_024.nii.gz <---\n",
      "---> ./data_dir/norm_MR/regular/NORM_025.nii.gz <---\n",
      "---> ./data_dir/norm_MR/regular/NORM_026.nii.gz <---\n",
      "---> ./data_dir/norm_MR/regular/NORM_027.nii.gz <---\n",
      "---> ./data_dir/norm_MR/regular/NORM_028.nii.gz <---\n",
      "---> ./data_dir/norm_MR/regular/NORM_029.nii.gz <---\n",
      "---> ./data_dir/norm_MR/regular/NORM_030.nii.gz <---\n",
      "---> ./data_dir/norm_MR/regular/NORM_031.nii.gz <---\n",
      "---> ./data_dir/norm_MR/regular/NORM_032.nii.gz <---\n",
      "---> ./data_dir/norm_MR/regular/NORM_033.nii.gz <---\n",
      "---> ./data_dir/norm_MR/regular/NORM_034.nii.gz <---\n",
      "---> ./data_dir/norm_MR/regular/NORM_035.nii.gz <---\n",
      "---> ./data_dir/norm_MR/regular/NORM_036.nii.gz <---\n",
      "---> ./data_dir/norm_MR/regular/NORM_037.nii.gz <---\n",
      "---> ./data_dir/norm_MR/regular/NORM_038.nii.gz <---\n",
      "---> ./data_dir/norm_MR/regular/NORM_039.nii.gz <---\n",
      "---> ./data_dir/norm_MR/regular/NORM_040.nii.gz <---\n",
      "---> ./data_dir/norm_MR/regular/NORM_041.nii.gz <---\n",
      "---> ./data_dir/norm_MR/regular/NORM_042.nii.gz <---\n",
      "---> ./data_dir/norm_MR/regular/NORM_043.nii.gz <---\n",
      "---> ./data_dir/norm_MR/regular/NORM_044.nii.gz <---\n",
      "---> ./data_dir/norm_MR/regular/NORM_046.nii.gz <---\n",
      "---> ./data_dir/norm_MR/regular/NORM_047.nii.gz <---\n",
      "---> ./data_dir/norm_MR/regular/NORM_048.nii.gz <---\n",
      "---> ./data_dir/norm_MR/regular/NORM_049.nii.gz <---\n",
      "---> ./data_dir/norm_MR/regular/NORM_050.nii.gz <---\n",
      "---> ./data_dir/norm_MR/regular/NORM_051.nii.gz <---\n",
      "---> ./data_dir/norm_MR/regular/NORM_052.nii.gz <---\n",
      "---> ./data_dir/norm_MR/regular/NORM_053.nii.gz <---\n",
      "---> ./data_dir/norm_MR/regular/NORM_055.nii.gz <---\n",
      "---> ./data_dir/norm_MR/regular/NORM_056.nii.gz <---\n",
      "---> ./data_dir/norm_MR/regular/NORM_057.nii.gz <---\n",
      "---> ./data_dir/norm_MR/regular/NORM_058.nii.gz <---\n",
      "---> ./data_dir/norm_MR/regular/NORM_059.nii.gz <---\n",
      "---> ./data_dir/norm_MR/regular/NORM_060.nii.gz <---\n",
      "---> ./data_dir/norm_MR/regular/NORM_061.nii.gz <---\n",
      "---> ./data_dir/norm_MR/regular/NORM_062.nii.gz <---\n",
      "---> ./data_dir/norm_MR/regular/NORM_063.nii.gz <---\n",
      "---> ./data_dir/norm_MR/regular/NORM_064.nii.gz <---\n",
      "---> ./data_dir/norm_MR/regular/NORM_065.nii.gz <---\n",
      "---> ./data_dir/norm_MR/regular/NORM_069.nii.gz <---\n",
      "---> ./data_dir/norm_MR/regular/NORM_071.nii.gz <---\n",
      "---> ./data_dir/norm_MR/regular/NORM_097.nii.gz <---\n"
     ]
    }
   ],
   "source": [
    "import os\n",
    "import glob\n",
    "import time\n",
    "import numpy as np\n",
    "import pandas as pd\n",
    "import nibabel as nib\n",
    "import matplotlib.pyplot as plt\n",
    "from externel import seaborn as sns\n",
    "\n",
    "def bin_CT(img, n_bins=1024):\n",
    "#     data_vector = np.ravel(img)\n",
    "    data_max = np.amax(img)\n",
    "    data_min = np.amin(img)\n",
    "    # print(data_max, data_min)\n",
    "    data_squeezed = (img-data_min)/(data_max-data_min)\n",
    "    data_extended = data_squeezed * n_bins\n",
    "    data_discrete = data_extended // 1\n",
    "#     print(data_discrete.shape)\n",
    "    return np.asarray(list(data_discrete), dtype=np.int64)\n",
    "\n",
    "train_dict = {}\n",
    "train_dict[\"time_stamp\"] = time.strftime(\"%Y-%m-%d_%H:%M:%S\", time.localtime())\n",
    "train_dict[\"project_name\"] = \"pixel_correlation\"\n",
    "train_dict[\"save_folder\"] = \"./project_dir/\"+train_dict[\"project_name\"]+\"/\"\n",
    "\n",
    "train_dict[\"folder_X\"] = \"./data_dir/norm_MR/regular/\"\n",
    "train_dict[\"folder_Y\"] = \"./data_dir/norm_CT_2/regular/\"\n",
    "\n",
    "X_list = sorted(glob.glob(train_dict[\"folder_X\"]+\"*.nii.gz\"))\n",
    "Y_list = sorted(glob.glob(train_dict[\"folder_Y\"]+\"*.nii.gz\"))\n",
    "\n",
    "n_bin = 128\n",
    "\n",
    "for cnt_file, file_path in enumerate(X_list):\n",
    "     \n",
    "    file_name = os.path.basename(file_path)\n",
    "    cube_x_path = file_path\n",
    "    cube_y_path = train_dict[\"folder_Y\"] + file_name\n",
    "    print(\"--->\",cube_x_path,\"<---\")\n",
    "    cube_x_data = nib.load(cube_x_path).get_fdata()\n",
    "    cube_y_data = nib.load(cube_y_path).get_fdata()\n",
    "    len_x, len_y, len_z = cube_x_data.shape\n",
    "    pixel_corr = np.zeros((n_bin, n_bin))\n",
    "    \n",
    "    X_discrete = bin_CT(cube_x_data, n_bins=n_bin-1)\n",
    "    Y_discrete = bin_CT(cube_y_data, n_bins=n_bin-1)\n",
    "        \n",
    "    for ix in range(len_x):\n",
    "        for iy in range(len_y):\n",
    "            for iz in range(len_z):\n",
    "                pixel_corr[X_discrete[ix, iy, iz], Y_discrete[ix, iy, iz]] += 1\n",
    "    \n",
    "    for ix in range(n_bin):\n",
    "        temp_sum = np.sum(pixel_corr[ix, :])\n",
    "        # print(np.amax(pixel_corr[ix, :]), end=\"\")\n",
    "        if not temp_sum == 0.0:\n",
    "            pixel_corr[ix, :] = pixel_corr[ix, :] / np.sum(pixel_corr[ix, :])\n",
    "        # print(np.amax(pixel_corr[ix, :]))\n",
    "            \n",
    "    loc_x = np.zeros((n_bin)*(n_bin))\n",
    "    loc_y = np.zeros((n_bin)*(n_bin))\n",
    "    pc_ft = np.zeros((n_bin)*(n_bin))\n",
    "    for idx in range(n_bin):\n",
    "        for idy in range(n_bin):\n",
    "            flatten = idx*n_bin + idy\n",
    "            loc_x[flatten] = idx\n",
    "            loc_y[flatten] = idy\n",
    "            pc_ft[flatten] = pixel_corr[idx, idy]\n",
    "\n",
    "    corr_mat = pd.DataFrame({\"X\":loc_x, \"Y\":loc_y, \"counts\":pc_ft})\n",
    "\n",
    "    plt.figure(figsize=(12, 12), dpi=1200)\n",
    "    g = sns.relplot(\n",
    "        data=corr_mat,\n",
    "        x=\"X\", y=\"Y\", hue=\"counts\",\n",
    "        palette=\"vlag\", hue_norm=(-1, 1), edgecolor=\".7\",\n",
    "        height=10, sizes=(50, 250), size_norm=(-.2, .8),\n",
    "    )\n",
    "\n",
    "    # Tweak the figure to finalize\n",
    "    g.set(xlabel=\"MR\", ylabel=\"CT\", aspect=\"equal\")\n",
    "    g.despine(left=True, bottom=True)\n",
    "    g.ax.margins(.02)\n",
    "    for label in g.ax.get_xticklabels():\n",
    "        label.set_rotation(90)\n",
    "    for artist in g.legend.legendHandles:\n",
    "        artist.set_edgecolor(\".7\")\n",
    "        \n",
    "    np.save(train_dict[\"save_folder\"]+file_name[:-7]+\"_pix_cor.npy\", pixel_corr)\n",
    "    plt.savefig(train_dict[\"save_folder\"]+file_name[:-7]+\"_pix_cor.png\")\n",
    "    plt.close('all')\n",
    "\n",
    "    pred_file = nib.Nifti1Image(X_discrete, nib.load(cube_x_path).affine, nib.load(cube_x_path).header)\n",
    "    pred_name = \"./data_dir/norm_MR/discrete/\"+file_name[:-7]+\"_MR_D.nii.gz\"\n",
    "    nib.save(pred_file, pred_name)\n",
    "    \n",
    "    pred_file = nib.Nifti1Image(Y_discrete, nib.load(cube_y_path).affine, nib.load(cube_y_path).header)\n",
    "    pred_name = \"./data_dir/norm_CT_2/discrete/\"+file_name[:-7]+\"_CT_D.nii.gz\"\n",
    "    nib.save(pred_file, pred_name)"
   ]
  }
 ],
 "metadata": {
  "kernelspec": {
   "display_name": "Python 3 (ipykernel)",
   "language": "python",
   "name": "python3"
  },
  "language_info": {
   "codemirror_mode": {
    "name": "ipython",
    "version": 3
   },
   "file_extension": ".py",
   "mimetype": "text/x-python",
   "name": "python",
   "nbconvert_exporter": "python",
   "pygments_lexer": "ipython3",
   "version": "3.8.11"
  }
 },
 "nbformat": 4,
 "nbformat_minor": 5
}
