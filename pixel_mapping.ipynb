{
 "cells": [
  {
   "cell_type": "code",
   "execution_count": 2,
   "id": "ef71f930",
   "metadata": {},
   "outputs": [
    {
     "name": "stdout",
     "output_type": "stream",
     "text": [
      "(256, 256, 182)\n"
     ]
    }
   ],
   "source": [
    "import os\n",
    "import glob\n",
    "import copy\n",
    "import time\n",
    "import numpy as np\n",
    "import pandas as pd\n",
    "import nibabel as nib\n",
    "import matplotlib.pyplot as plt\n",
    "import random\n",
    "\n",
    "def random_pick(some_list,probabilities):\n",
    "    x = random.uniform(0,1)\n",
    "    cumulative_probability=0.0\n",
    "    for item, item_probability in zip(some_list,probabilities):\n",
    "        cumulative_probability+=item_probability\n",
    "        if x < cumulative_probability:\n",
    "            break\n",
    "    return item\n",
    "\n",
    "train_dict = {}\n",
    "train_dict[\"time_stamp\"] = time.strftime(\"%Y-%m-%d_%H:%M:%S\", time.localtime())\n",
    "train_dict[\"project_name\"] = \"pixel_xyz\"\n",
    "train_dict[\"save_folder\"] = \"./project_dir/\"+train_dict[\"project_name\"]+\"/\"\n",
    "\n",
    "train_dict[\"folder_X\"] = \"./data_dir/norm_MR/discrete/\"\n",
    "train_dict[\"folder_Y\"] = \"./data_dir/norm_CT/discrete/\"\n",
    "\n",
    "X_list = sorted(glob.glob(train_dict[\"folder_X\"]+\"*.nii.gz\"))\n",
    "Y_list = sorted(glob.glob(train_dict[\"folder_Y\"]+\"*.nii.gz\"))\n",
    "\n",
    "n_bin = 128\n",
    "\n",
    "len_x, len_y, len_z = 256, 256, 182\n",
    "\n",
    "test_MR = \"./data_dir/norm_MR/NORM_097.nii.gz\"\n",
    "MR_file = nib.load(test_MR)\n",
    "MR_data = MR_file.get_fdata()\n",
    "MR_pred = np.zeros(MR_data.shape)\n",
    "print(MR_data.shape)\n"
   ]
  },
  {
   "cell_type": "code",
   "execution_count": 5,
   "id": "7bbe9b8e",
   "metadata": {},
   "outputs": [
    {
     "name": "stdout",
     "output_type": "stream",
     "text": [
      "---> ./data_dir/norm_MR/discrete/NORM_001.nii.gz <---\n",
      "---> ./data_dir/norm_MR/discrete/NORM_002.nii.gz <---\n",
      "---> ./data_dir/norm_MR/discrete/NORM_003.nii.gz <---\n",
      "---> ./data_dir/norm_MR/discrete/NORM_004.nii.gz <---\n",
      "---> ./data_dir/norm_MR/discrete/NORM_005.nii.gz <---\n",
      "---> ./data_dir/norm_MR/discrete/NORM_006.nii.gz <---\n",
      "---> ./data_dir/norm_MR/discrete/NORM_007.nii.gz <---\n",
      "---> ./data_dir/norm_MR/discrete/NORM_008.nii.gz <---\n",
      "---> ./data_dir/norm_MR/discrete/NORM_010.nii.gz <---\n",
      "---> ./data_dir/norm_MR/discrete/NORM_011.nii.gz <---\n",
      "---> ./data_dir/norm_MR/discrete/NORM_012.nii.gz <---\n",
      "---> ./data_dir/norm_MR/discrete/NORM_013.nii.gz <---\n",
      "---> ./data_dir/norm_MR/discrete/NORM_014.nii.gz <---\n",
      "---> ./data_dir/norm_MR/discrete/NORM_015.nii.gz <---\n",
      "---> ./data_dir/norm_MR/discrete/NORM_017.nii.gz <---\n",
      "---> ./data_dir/norm_MR/discrete/NORM_018.nii.gz <---\n",
      "---> ./data_dir/norm_MR/discrete/NORM_019.nii.gz <---\n",
      "---> ./data_dir/norm_MR/discrete/NORM_020.nii.gz <---\n",
      "---> ./data_dir/norm_MR/discrete/NORM_022.nii.gz <---\n",
      "---> ./data_dir/norm_MR/discrete/NORM_023.nii.gz <---\n",
      "---> ./data_dir/norm_MR/discrete/NORM_024.nii.gz <---\n",
      "---> ./data_dir/norm_MR/discrete/NORM_025.nii.gz <---\n",
      "---> ./data_dir/norm_MR/discrete/NORM_026.nii.gz <---\n",
      "---> ./data_dir/norm_MR/discrete/NORM_027.nii.gz <---\n",
      "---> ./data_dir/norm_MR/discrete/NORM_028.nii.gz <---\n",
      "---> ./data_dir/norm_MR/discrete/NORM_029.nii.gz <---\n",
      "---> ./data_dir/norm_MR/discrete/NORM_030.nii.gz <---\n",
      "---> ./data_dir/norm_MR/discrete/NORM_031.nii.gz <---\n",
      "---> ./data_dir/norm_MR/discrete/NORM_032.nii.gz <---\n",
      "---> ./data_dir/norm_MR/discrete/NORM_033.nii.gz <---\n",
      "---> ./data_dir/norm_MR/discrete/NORM_034.nii.gz <---\n",
      "---> ./data_dir/norm_MR/discrete/NORM_035.nii.gz <---\n",
      "---> ./data_dir/norm_MR/discrete/NORM_036.nii.gz <---\n",
      "---> ./data_dir/norm_MR/discrete/NORM_037.nii.gz <---\n",
      "---> ./data_dir/norm_MR/discrete/NORM_038.nii.gz <---\n",
      "---> ./data_dir/norm_MR/discrete/NORM_039.nii.gz <---\n",
      "---> ./data_dir/norm_MR/discrete/NORM_040.nii.gz <---\n",
      "---> ./data_dir/norm_MR/discrete/NORM_041.nii.gz <---\n",
      "---> ./data_dir/norm_MR/discrete/NORM_042.nii.gz <---\n",
      "---> ./data_dir/norm_MR/discrete/NORM_043.nii.gz <---\n",
      "---> ./data_dir/norm_MR/discrete/NORM_044.nii.gz <---\n",
      "---> ./data_dir/norm_MR/discrete/NORM_046.nii.gz <---\n",
      "---> ./data_dir/norm_MR/discrete/NORM_047.nii.gz <---\n",
      "---> ./data_dir/norm_MR/discrete/NORM_048.nii.gz <---\n",
      "---> ./data_dir/norm_MR/discrete/NORM_049.nii.gz <---\n",
      "---> ./data_dir/norm_MR/discrete/NORM_050.nii.gz <---\n",
      "---> ./data_dir/norm_MR/discrete/NORM_051.nii.gz <---\n",
      "---> ./data_dir/norm_MR/discrete/NORM_052.nii.gz <---\n",
      "---> ./data_dir/norm_MR/discrete/NORM_053.nii.gz <---\n",
      "---> ./data_dir/norm_MR/discrete/NORM_055.nii.gz <---\n",
      "---> ./data_dir/norm_MR/discrete/NORM_056.nii.gz <---\n",
      "---> ./data_dir/norm_MR/discrete/NORM_057.nii.gz <---\n",
      "---> ./data_dir/norm_MR/discrete/NORM_058.nii.gz <---\n",
      "---> ./data_dir/norm_MR/discrete/NORM_059.nii.gz <---\n",
      "---> ./data_dir/norm_MR/discrete/NORM_060.nii.gz <---\n",
      "---> ./data_dir/norm_MR/discrete/NORM_061.nii.gz <---\n",
      "---> ./data_dir/norm_MR/discrete/NORM_062.nii.gz <---\n",
      "---> ./data_dir/norm_MR/discrete/NORM_063.nii.gz <---\n",
      "---> ./data_dir/norm_MR/discrete/NORM_064.nii.gz <---\n",
      "---> ./data_dir/norm_MR/discrete/NORM_065.nii.gz <---\n",
      "---> ./data_dir/norm_MR/discrete/NORM_069.nii.gz <---\n",
      "---> ./data_dir/norm_MR/discrete/NORM_071.nii.gz <---\n"
     ]
    }
   ],
   "source": [
    "loc = [167, 177, 43]\n",
    "\n",
    "CT_database = np.zeros((11, 11, 11, len(X_list)))\n",
    "\n",
    "for cnt_file, file_path in enumerate(X_list):\n",
    "     \n",
    "    file_name = os.path.basename(file_path)\n",
    "    cube_x_path = file_path\n",
    "    cube_y_path = train_dict[\"folder_Y\"] + file_name\n",
    "    print(\"--->\",cube_x_path,\"<---\")\n",
    "#     cube_x_data = nib.load(cube_x_path).get_fdata()\n",
    "    cube_y_data = nib.load(cube_y_path).get_fdata()\n",
    "#     len_x, len_y, len_z = cube_x_data.shape\n",
    "    \n",
    "    CT_database[:, :, :, cnt_file] = cube_y_data[loc[0]-5:loc[0]+6, loc[1]-5:loc[1]+6, loc[2]-5:loc[2]+6]"
   ]
  },
  {
   "cell_type": "code",
   "execution_count": 6,
   "id": "820fc2c6",
   "metadata": {},
   "outputs": [
    {
     "data": {
      "text/plain": [
       "(11, 11, 11, 62)"
      ]
     },
     "execution_count": 6,
     "metadata": {},
     "output_type": "execute_result"
    }
   ],
   "source": [
    "CT_database.shape"
   ]
  },
  {
   "cell_type": "code",
   "execution_count": 8,
   "id": "29dee047",
   "metadata": {},
   "outputs": [
    {
     "data": {
      "text/plain": [
       "(array([6.000e+00, 1.460e+02, 5.900e+01, 1.600e+01, 8.000e+00, 0.000e+00,\n",
       "        8.000e+00, 1.300e+01, 1.400e+01, 7.000e+00, 6.000e+00, 0.000e+00,\n",
       "        3.000e+00, 8.000e+00, 3.000e+00, 6.000e+00, 0.000e+00, 6.000e+00,\n",
       "        6.000e+00, 4.000e+00, 3.000e+00, 5.000e+00, 0.000e+00, 1.000e+01,\n",
       "        1.000e+01, 9.000e+00, 6.000e+00, 0.000e+00, 2.000e+00, 9.000e+00,\n",
       "        2.100e+01, 1.840e+02, 4.540e+02, 0.000e+00, 6.940e+02, 9.520e+02,\n",
       "        1.058e+03, 2.362e+03, 0.000e+00, 2.771e+03, 1.268e+03, 1.129e+03,\n",
       "        1.463e+03, 1.775e+03, 0.000e+00, 1.596e+03, 1.775e+03, 2.912e+03,\n",
       "        4.242e+03, 3.825e+03, 0.000e+00, 2.422e+03, 2.295e+03, 1.908e+03,\n",
       "        1.667e+03, 0.000e+00, 1.416e+03, 1.444e+03, 1.486e+03, 1.440e+03,\n",
       "        1.413e+03, 0.000e+00, 1.387e+03, 1.411e+03, 1.420e+03, 1.380e+03,\n",
       "        0.000e+00, 1.500e+03, 1.527e+03, 1.517e+03, 1.545e+03, 1.588e+03,\n",
       "        0.000e+00, 1.540e+03, 1.513e+03, 1.517e+03, 1.480e+03, 0.000e+00,\n",
       "        1.446e+03, 1.387e+03, 1.328e+03, 1.258e+03, 1.128e+03, 0.000e+00,\n",
       "        1.093e+03, 1.082e+03, 9.130e+02, 8.950e+02, 8.810e+02, 0.000e+00,\n",
       "        7.910e+02, 6.620e+02, 5.910e+02, 5.750e+02, 0.000e+00, 4.960e+02,\n",
       "        4.730e+02, 4.450e+02, 4.000e+02, 3.740e+02, 0.000e+00, 3.590e+02,\n",
       "        3.140e+02, 2.770e+02, 2.990e+02, 0.000e+00, 2.570e+02, 2.070e+02,\n",
       "        1.590e+02, 1.560e+02, 1.280e+02, 0.000e+00, 1.150e+02, 9.700e+01,\n",
       "        6.000e+01, 6.600e+01, 0.000e+00, 4.400e+01, 3.000e+01, 2.100e+01,\n",
       "        1.800e+01, 9.000e+00, 0.000e+00, 8.000e+00, 4.000e+00, 4.000e+00,\n",
       "        1.000e+00, 1.000e+00]),\n",
       " array([  1.       ,   1.8203125,   2.640625 ,   3.4609375,   4.28125  ,\n",
       "          5.1015625,   5.921875 ,   6.7421875,   7.5625   ,   8.3828125,\n",
       "          9.203125 ,  10.0234375,  10.84375  ,  11.6640625,  12.484375 ,\n",
       "         13.3046875,  14.125    ,  14.9453125,  15.765625 ,  16.5859375,\n",
       "         17.40625  ,  18.2265625,  19.046875 ,  19.8671875,  20.6875   ,\n",
       "         21.5078125,  22.328125 ,  23.1484375,  23.96875  ,  24.7890625,\n",
       "         25.609375 ,  26.4296875,  27.25     ,  28.0703125,  28.890625 ,\n",
       "         29.7109375,  30.53125  ,  31.3515625,  32.171875 ,  32.9921875,\n",
       "         33.8125   ,  34.6328125,  35.453125 ,  36.2734375,  37.09375  ,\n",
       "         37.9140625,  38.734375 ,  39.5546875,  40.375    ,  41.1953125,\n",
       "         42.015625 ,  42.8359375,  43.65625  ,  44.4765625,  45.296875 ,\n",
       "         46.1171875,  46.9375   ,  47.7578125,  48.578125 ,  49.3984375,\n",
       "         50.21875  ,  51.0390625,  51.859375 ,  52.6796875,  53.5      ,\n",
       "         54.3203125,  55.140625 ,  55.9609375,  56.78125  ,  57.6015625,\n",
       "         58.421875 ,  59.2421875,  60.0625   ,  60.8828125,  61.703125 ,\n",
       "         62.5234375,  63.34375  ,  64.1640625,  64.984375 ,  65.8046875,\n",
       "         66.625    ,  67.4453125,  68.265625 ,  69.0859375,  69.90625  ,\n",
       "         70.7265625,  71.546875 ,  72.3671875,  73.1875   ,  74.0078125,\n",
       "         74.828125 ,  75.6484375,  76.46875  ,  77.2890625,  78.109375 ,\n",
       "         78.9296875,  79.75     ,  80.5703125,  81.390625 ,  82.2109375,\n",
       "         83.03125  ,  83.8515625,  84.671875 ,  85.4921875,  86.3125   ,\n",
       "         87.1328125,  87.953125 ,  88.7734375,  89.59375  ,  90.4140625,\n",
       "         91.234375 ,  92.0546875,  92.875    ,  93.6953125,  94.515625 ,\n",
       "         95.3359375,  96.15625  ,  96.9765625,  97.796875 ,  98.6171875,\n",
       "         99.4375   , 100.2578125, 101.078125 , 101.8984375, 102.71875  ,\n",
       "        103.5390625, 104.359375 , 105.1796875, 106.       ]),\n",
       " <a list of 128 Patch objects>)"
      ]
     },
     "execution_count": 8,
     "metadata": {},
     "output_type": "execute_result"
    },
    {
     "data": {
      "image/png": "[encoded data removed]",
      "text/plain": [
       "<Figure size 800x800 with 1 Axes>"
      ]
     },
     "metadata": {
      "needs_background": "light"
     },
     "output_type": "display_data"
    }
   ],
   "source": [
    "plt.figure(figsize=(4,4), dpi=200)\n",
    "plt.hist(np.ravel(CT_database), bins=128)"
   ]
  },
  {
   "cell_type": "code",
   "execution_count": null,
   "id": "55d6fdbc",
   "metadata": {},
   "outputs": [],
   "source": []
  }
 ],
 "metadata": {
  "kernelspec": {
   "display_name": "Python 3 (ipykernel)",
   "language": "python",
   "name": "python3"
  },
  "language_info": {
   "codemirror_mode": {
    "name": "ipython",
    "version": 3
   },
   "file_extension": ".py",
   "mimetype": "text/x-python",
   "name": "python",
   "nbconvert_exporter": "python",
   "pygments_lexer": "ipython3",
   "version": "3.8.11"
  }
 },
 "nbformat": 4,
 "nbformat_minor": 5
}
