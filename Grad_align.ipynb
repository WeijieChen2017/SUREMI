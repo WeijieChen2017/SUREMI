{
 "cells": [
  {
   "cell_type": "code",
   "execution_count": 1,
   "id": "2ac432e0",
   "metadata": {},
   "outputs": [
    {
     "name": "stdout",
     "output_type": "stream",
     "text": [
      "['./data_dir/norm_CT/discrete/NORM_001.nii.gz', './data_dir/norm_CT/discrete/NORM_002.nii.gz', './data_dir/norm_CT/discrete/NORM_003.nii.gz', './data_dir/norm_CT/discrete/NORM_004.nii.gz', './data_dir/norm_CT/discrete/NORM_005.nii.gz']\n"
     ]
    }
   ],
   "source": [
    "import os\n",
    "import glob\n",
    "import time\n",
    "import numpy as np\n",
    "import pandas as pd\n",
    "import nibabel as nib\n",
    "import matplotlib.pyplot as plt\n",
    "from externel import seaborn as sns\n",
    "\n",
    "def bin_CT(img, n_bins=1024):\n",
    "#     data_vector = np.ravel(img)\n",
    "    data_max = np.amax(data_vector)\n",
    "    data_min = np.amin(data_vector)\n",
    "    # print(data_max, data_min)\n",
    "    data_squeezed = (data_vector-data_min)/(data_max-data_min)\n",
    "    data_extended = data_squeezed * n_bins\n",
    "    data_discrete = data_extended // 1\n",
    "#     print(data_discrete.shape)\n",
    "    return np.asarray(list(data_discrete), dtype=np.int64)\n",
    "\n",
    "train_dict = {}\n",
    "train_dict[\"time_stamp\"] = time.strftime(\"%Y-%m-%d_%H:%M:%S\", time.localtime())\n",
    "train_dict[\"project_name\"] = \"pixel_correlation\"\n",
    "train_dict[\"save_folder\"] = \"./project_dir/\"+train_dict[\"project_name\"]+\"/\"\n",
    "\n",
    "train_dict[\"folder_X\"] = \"./data_dir/norm_MR/discrete/\"\n",
    "train_dict[\"folder_Y\"] = \"./data_dir/norm_CT/discrete/\"\n",
    "\n",
    "X_list = sorted(glob.glob(train_dict[\"folder_X\"]+\"*.nii.gz\"))\n",
    "Y_list = sorted(glob.glob(train_dict[\"folder_Y\"]+\"*.nii.gz\"))\n",
    "print(Y_list[:5])"
   ]
  },
  {
   "cell_type": "code",
   "execution_count": 3,
   "id": "daf5eda3",
   "metadata": {},
   "outputs": [],
   "source": [
    "n_bin = 128\n",
    "loc_x, loc_y, loc_z = (194, 126, 80)\n",
    "dx, dy, dz = (1, 1, 1)\n",
    "n_X = 20\n",
    "n_Y = 5\n",
    "dist_X = np.zeros((n_bin, (dx*2+1)*(dy*2+1)*(dz*2+1)))\n",
    "dist_Y = np.zeros((n_bin, (dx*2+1)*(dy*2+1)*(dz*2+1)))\n",
    "src_file = nib.load(\"./data_dir/norm_MR/NORM_097.nii.gz\")\n",
    "src_data = src_file.get_fdata()\n",
    "dst_data = np.zeros((256, 256))"
   ]
  },
  {
   "cell_type": "code",
   "execution_count": 6,
   "id": "432d2721",
   "metadata": {},
   "outputs": [],
   "source": [
    "from scipy.special import kl_div\n",
    "from sklearn.metrics import mean_squared_error as mse\n",
    "\n",
    "def kl_div_scalar(X, Y):\n",
    "    return np.sum(kl_div(X, Y))"
   ]
  },
  {
   "cell_type": "code",
   "execution_count": 8,
   "id": "998a30c5",
   "metadata": {},
   "outputs": [
    {
     "name": "stdout",
     "output_type": "stream",
     "text": [
      "2 64\n",
      "3 19\n",
      "4 32\n",
      "5 78\n",
      "6 103\n",
      "7 59\n",
      "8 17\n",
      "9 6\n",
      "10 65\n",
      "11 52\n",
      "12 57\n",
      "13 58\n",
      "14 5\n",
      "15 32\n",
      "16 19\n",
      "17 66\n",
      "18 37\n",
      "19 59\n",
      "20 52\n",
      "21 17\n",
      "23 64\n",
      "25 32\n",
      "26 89\n",
      "27 37\n",
      "29 93\n",
      "32 17\n",
      "35 90\n",
      "36 88\n",
      "38 59\n"
     ]
    }
   ],
   "source": [
    "dist_X = np.zeros((n_bin, (dx*2+1)*(dy*2+1)*(dz*2+1)))\n",
    "dist_Y = np.zeros((n_bin, (dx*2+1)*(dy*2+1)*(dz*2+1)))\n",
    "\n",
    "for file_path in Y_list[:n_X]:\n",
    "    Y_file = nib.load(file_path)\n",
    "    Y_data = Y_file.get_fdata()\n",
    "    Y_cube = Y_data[loc_x-dx:loc_x+dx+1, loc_y-dy:loc_y+dy+1, loc_z-dz:loc_z+dz+1]\n",
    "    Y_flat = np.ravel(Y_cube)\n",
    "    Y_elem = np.unique(Y_cube)\n",
    "    for cnt_elem, elem in enumerate(Y_elem):\n",
    "        loc_elem = np.where(Y_flat == elem)[0]\n",
    "        for idx_elem in loc_elem:\n",
    "            dist_Y[int(elem), idx_elem] += 1\n",
    "\n",
    "            \n",
    "for file_path in X_list[:n_Y]:\n",
    "    X_file = nib.load(file_path)\n",
    "    X_data = X_file.get_fdata()\n",
    "    X_cube = X_data[loc_x-dx:loc_x+dx+1, loc_y-dy:loc_y+dy+1, loc_z-dz:loc_z+dz+1]\n",
    "    X_flat = np.ravel(X_cube)\n",
    "    X_elem = np.unique(X_cube)\n",
    "    for cnt_elem, elem in enumerate(X_elem):\n",
    "        loc_elem = np.where(X_flat == elem)[0]\n",
    "        for idx_elem in loc_elem:\n",
    "            dist_X[int(elem), idx_elem] += 1\n",
    "\n",
    "            \n",
    "X_nonzero = []\n",
    "for idx in range(n_bin):\n",
    "    row_sum = np.sum(dist_X[idx, :])\n",
    "    if row_sum > 0:\n",
    "        dist_X[idx, :] += 1e-6\n",
    "        row_sum = np.sum(dist_X[idx, :])\n",
    "        dist_X[idx, :] /=row_sum\n",
    "        X_nonzero.append(idx)\n",
    "\n",
    "        \n",
    "Y_nonzero = []\n",
    "for idx in range(n_bin):\n",
    "    row_sum = np.sum(dist_Y[idx, :])\n",
    "    if row_sum > 0:\n",
    "        dist_Y[idx, :] /= row_sum\n",
    "        Y_nonzero.append(idx)\n",
    "        \n",
    "        \n",
    "dist_YX = np.zeros((len(X_nonzero), len(Y_nonzero)))\n",
    "for cnt_x, elem_X in enumerate(X_nonzero):\n",
    "    for cnt_y, elem_Y in enumerate(Y_nonzero):\n",
    "        dist_YX[cnt_x, cnt_y] = kl_div_scalar(dist_Y[elem_Y, :], dist_X[elem_X, :])\n",
    "\n",
    "        \n",
    "for cnt_x, elem_X in enumerate(X_nonzero):\n",
    "    Y_dist_x = dist_YX[cnt_x, :]\n",
    "    Y_minKL = np.amin(Y_dist_x)\n",
    "    Y_minKL_loc = np.where(Y_dist_x == Y_minKL)[0][0]\n",
    "    print(elem_X, Y_nonzero[Y_minKL_loc])"
   ]
  },
  {
   "cell_type": "code",
   "execution_count": 29,
   "id": "02504e92",
   "metadata": {},
   "outputs": [
    {
     "name": "stdout",
     "output_type": "stream",
     "text": [
      "(3, 3, 3)\n",
      "[[[4.58257669e+00 5.38516581e+00 5.19615342e+00]\n",
      "  [1.73205181e+00 2.54951076e+00 3.35410297e+00]\n",
      "  [1.00000100e+00 1.50000100e+00 2.44949074e+00]]\n",
      "\n",
      " [[2.69258340e+00 2.73861379e+00 2.44949074e+00]\n",
      "  [7.07107781e-01 1.22474587e+00 1.50000100e+00]\n",
      "  [1.00000000e-06 5.00001000e-01 1.11803499e+00]]\n",
      "\n",
      " [[2.44949074e+00 1.11803499e+00 1.41421456e+00]\n",
      "  [1.50000100e+00 1.00000100e+00 1.41421456e+00]\n",
      "  [1.41421456e+00 1.41421456e+00 2.23606898e+00]]]\n"
     ]
    }
   ],
   "source": [
    "print(X_cube.shape)\n",
    "grad_3d = np.gradient(X_cube)\n",
    "grad_magn = grad_3d[0]**2 + grad_3d[1]**2 + grad_3d[2]**2\n",
    "grad_magn = np.sqrt(grad_magn)\n",
    "grad_magn += 1e-6\n",
    "print(grad_magn)"
   ]
  },
  {
   "cell_type": "code",
   "execution_count": 25,
   "id": "48cf446f",
   "metadata": {},
   "outputs": [],
   "source": [
    "grad_magn_x = np.arccos(np.asarray(grad_3d[0]) / grad_magn)\n",
    "grad_magn_y = np.arccos(np.asarray(grad_3d[1]) / grad_magn)\n",
    "grad_magn_z = np.arccos(np.asarray(grad_3d[2]) / grad_magn)"
   ]
  },
  {
   "cell_type": "code",
   "execution_count": 26,
   "id": "836ca73e",
   "metadata": {},
   "outputs": [
    {
     "data": {
      "text/plain": [
       "array([[[2.63185258, 2.76108581, 2.86594917],\n",
       "        [2.18627563, 2.47262808, 2.67794445],\n",
       "        [3.14017844, 2.30052339, 1.99133048]],\n",
       "\n",
       "       [[2.76108535, 2.7210575 , 2.52611237],\n",
       "        [2.35619308, 2.52611179, 2.30052339],\n",
       "        [1.57079633, 1.57079633, 1.10714917]],\n",
       "\n",
       "       [[1.99133048, 1.57079633, 0.78539887],\n",
       "        [1.57079633, 1.57079633, 0.78539887],\n",
       "        [0.78539887, 0.78539887, 0.4636485 ]]])"
      ]
     },
     "execution_count": 26,
     "metadata": {},
     "output_type": "execute_result"
    }
   ],
   "source": [
    "grad_magn_x"
   ]
  },
  {
   "cell_type": "code",
   "execution_count": 27,
   "id": "26e06cbc",
   "metadata": {},
   "outputs": [
    {
     "data": {
      "text/plain": [
       "array([[[2.02242966e+00, 1.95130263e+00, 1.76445459e+00],\n",
       "        [2.18627563e+00, 2.19981084e+00, 2.03444379e+00],\n",
       "        [1.57079633e+00, 2.30052339e+00, 2.52611237e+00]],\n",
       "\n",
       "       [[1.19029010e+00, 1.19700430e+00, 1.15026217e+00],\n",
       "        [7.85399578e-01, 1.15026236e+00, 1.23095965e+00],\n",
       "        [1.57079633e+00, 1.57079633e+00, 1.57079633e+00]],\n",
       "\n",
       "       [[6.15480286e-01, 4.63649398e-01, 7.85398871e-01],\n",
       "        [1.15470022e-03, 1.41421297e-03, 7.85398871e-01],\n",
       "        [7.85398871e-01, 7.85398871e-01, 1.10714894e+00]]])"
      ]
     },
     "execution_count": 27,
     "metadata": {},
     "output_type": "execute_result"
    }
   ],
   "source": [
    "grad_magn_y"
   ]
  },
  {
   "cell_type": "code",
   "execution_count": 28,
   "id": "3788670b",
   "metadata": {},
   "outputs": [
    {
     "data": {
      "text/plain": [
       "array([[[1.3508084 , 1.57079633, 1.76445459],\n",
       "        [0.95531703, 1.37340085, 1.57079633],\n",
       "        [1.57079633, 1.910633  , 1.99133048]],\n",
       "\n",
       "       [[1.57079633, 1.75440027, 1.99133048],\n",
       "        [1.57079633, 1.9913303 , 2.30052339],\n",
       "        [1.57079633, 3.13959266, 2.67794326]],\n",
       "\n",
       "       [[1.15026217, 1.10714917, 1.57079633],\n",
       "        [1.57079633, 1.57079633, 1.57079633],\n",
       "        [1.57079633, 1.57079633, 1.57079633]]])"
      ]
     },
     "execution_count": 28,
     "metadata": {},
     "output_type": "execute_result"
    }
   ],
   "source": [
    "grad_magn_z"
   ]
  },
  {
   "cell_type": "code",
   "execution_count": null,
   "id": "150d9644",
   "metadata": {},
   "outputs": [],
   "source": []
  }
 ],
 "metadata": {
  "kernelspec": {
   "display_name": "Python 3 (ipykernel)",
   "language": "python",
   "name": "python3"
  },
  "language_info": {
   "codemirror_mode": {
    "name": "ipython",
    "version": 3
   },
   "file_extension": ".py",
   "mimetype": "text/x-python",
   "name": "python",
   "nbconvert_exporter": "python",
   "pygments_lexer": "ipython3",
   "version": "3.8.11"
  }
 },
 "nbformat": 4,
 "nbformat_minor": 5
}
