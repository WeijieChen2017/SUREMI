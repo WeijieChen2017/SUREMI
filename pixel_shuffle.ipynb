{
 "cells": [
  {
   "cell_type": "code",
   "execution_count": 22,
   "id": "935833ab",
   "metadata": {},
   "outputs": [
    {
     "name": "stdout",
     "output_type": "stream",
     "text": [
      "['./data_dir/norm_CT/discrete/NORM_001.nii.gz', './data_dir/norm_CT/discrete/NORM_002.nii.gz', './data_dir/norm_CT/discrete/NORM_003.nii.gz', './data_dir/norm_CT/discrete/NORM_004.nii.gz', './data_dir/norm_CT/discrete/NORM_005.nii.gz']\n"
     ]
    }
   ],
   "source": [
    "import os\n",
    "import glob\n",
    "import time\n",
    "import numpy as np\n",
    "import pandas as pd\n",
    "import nibabel as nib\n",
    "import matplotlib.pyplot as plt\n",
    "from externel import seaborn as sns\n",
    "from scipy.ndimage import zoom\n",
    "\n",
    "def bin_CT(img, n_bins=1024):\n",
    "    data_vector = img\n",
    "    data_max = np.amax(data_vector)\n",
    "    data_min = np.amin(data_vector)\n",
    "    data_squeezed = (data_vector-data_min)/(data_max-data_min)\n",
    "    data_extended = data_squeezed * (n_bins-1)\n",
    "    data_discrete = data_extended // 1\n",
    "    return np.asarray(list(data_discrete), dtype=np.int64)\n",
    "\n",
    "train_dict = {}\n",
    "train_dict[\"time_stamp\"] = time.strftime(\"%Y-%m-%d_%H:%M:%S\", time.localtime())\n",
    "train_dict[\"project_name\"] = \"pixel_correlation\"\n",
    "train_dict[\"save_folder\"] = \"./project_dir/\"+train_dict[\"project_name\"]+\"/\"\n",
    "\n",
    "train_dict[\"folder_X\"] = \"./data_dir/norm_MR/discrete/\"\n",
    "train_dict[\"folder_Y\"] = \"./data_dir/norm_CT/discrete/\"\n",
    "\n",
    "X_list = sorted(glob.glob(train_dict[\"folder_X\"]+\"*.nii.gz\"))\n",
    "Y_list = sorted(glob.glob(train_dict[\"folder_Y\"]+\"*.nii.gz\"))\n",
    "print(Y_list[:5])\n",
    "\n",
    "n_bin = 128"
   ]
  },
  {
   "cell_type": "code",
   "execution_count": 19,
   "id": "62c7e39f",
   "metadata": {},
   "outputs": [
    {
     "name": "stdout",
     "output_type": "stream",
     "text": [
      "(512, 512, 33) 3091.0 0.0\n"
     ]
    }
   ],
   "source": [
    "t2f_file = nib.load(\"./data_dir/unknown/T2F_004.nii.gz\")\n",
    "t2f_data = t2f_file.get_fdata()\n",
    "print(t2f_data.shape, np.amax(t2f_data), np.amin(t2f_data))\n",
    "t2f_data_bin = bin_CT(t2f_data, n_bins=128)\n",
    "pred_file = nib.Nifti1Image(t2f_data_bin, t2f_file.affine, t2f_file.header)\n",
    "pred_name = \"./data_dir/unknown/T2F_004_bin.nii.gz\"\n",
    "nib.save(pred_file, pred_name)"
   ]
  },
  {
   "cell_type": "code",
   "execution_count": 92,
   "id": "28424e44",
   "metadata": {
    "scrolled": false
   },
   "outputs": [
    {
     "name": "stdout",
     "output_type": "stream",
     "text": [
      "(512, 512, 33) 4689.630655389193 -39.61693493514443\n"
     ]
    }
   ],
   "source": [
    "t1b_file = nib.load(\"./data_dir/unknown/T1B_006.nii.gz\")\n",
    "t1b_data = zoom(t1b_file.get_fdata(), zoom=(1,1,33/140))\n",
    "print(t1b_data.shape, np.amax(t1b_data), np.amin(t1b_data))\n",
    "t1b_data_bin = bin_CT(t1b_data, n_bins=128)\n",
    "pred_file = nib.Nifti1Image(t1b_data_bin, t2f_file.affine, t2f_file.header)\n",
    "pred_name = \"./data_dir/unknown/T1B_006_bin.nii.gz\"\n",
    "nib.save(pred_file, pred_name)"
   ]
  },
  {
   "cell_type": "code",
   "execution_count": 13,
   "id": "8d558898",
   "metadata": {},
   "outputs": [],
   "source": [
    "from scipy.special import kl_div\n",
    "from sklearn.metrics import mean_squared_error as mse\n",
    "\n",
    "def kl_div_scalar(X, Y):\n",
    "    return np.sum(kl_div(X, Y))"
   ]
  },
  {
   "cell_type": "code",
   "execution_count": 131,
   "id": "21173278",
   "metadata": {},
   "outputs": [
    {
     "name": "stdout",
     "output_type": "stream",
     "text": [
      "23 45\n",
      "24 45\n",
      "25 45\n",
      "26 45\n",
      "27 45\n",
      "28 45\n",
      "29 45\n",
      "30 45\n",
      "31 45\n",
      "32 45\n",
      "33 45\n",
      "34 45\n",
      "35 45\n"
     ]
    }
   ],
   "source": [
    "ix = 216 // 16\n",
    "iy = 325 // 16\n",
    "iz = 17 // 3\n",
    "\n",
    "cube_x = t2f_data_bin[ix*16:(ix+1)*16, iy*16:(iy+1)*16, iz*3:(iz+1)*3]\n",
    "cube_y = t1b_data_bin[ix*16:(ix+1)*16, iy*16:(iy+1)*16, iz*3:(iz+1)*3]\n",
    "t2f_replace[ix*16:(ix+1)*16, iy*16:(iy+1)*16, iz*3:(iz+1)*3] = spatial_pred(cube_x, cube_y)"
   ]
  },
  {
   "cell_type": "code",
   "execution_count": null,
   "id": "bc1fd434",
   "metadata": {},
   "outputs": [],
   "source": []
  },
  {
   "cell_type": "code",
   "execution_count": 130,
   "id": "9560e16b",
   "metadata": {},
   "outputs": [],
   "source": [
    "def spatial_pred(cube_x, cube_y):\n",
    "#     print(cube_x.shape)\n",
    "    dist_x = np.zeros((cube_x.shape[0]*cube_x.shape[1]*cube_x.shape[2], n_bin))\n",
    "    dist_y = np.zeros((cube_y.shape[0]*cube_y.shape[1]*cube_y.shape[2], n_bin))\n",
    "    pred = np.zeros((cube_x.shape))\n",
    "    \n",
    "    flat_x = np.ravel(cube_x)\n",
    "    elem_x = np.unique(flat_x)\n",
    "    for cnt_elem, elem in enumerate(elem_x):\n",
    "        loc_elem = np.where(flat_x == elem)[0]\n",
    "        for idx_elem in loc_elem:\n",
    "            dist_x[idx_elem, int(elem)] += 1\n",
    "\n",
    "    flat_y = np.ravel(cube_y)\n",
    "    elem_y = np.unique(flat_y)\n",
    "    for cnt_elem, elem in enumerate(elem_y):\n",
    "        loc_elem = np.where(flat_y == elem)[0]\n",
    "        for idx_elem in loc_elem:\n",
    "            dist_y[idx_elem, int(elem)] += 1\n",
    "\n",
    "    nonzero_x = []\n",
    "    nonzero_y = []\n",
    "    for idx in range(n_bin):\n",
    "        \n",
    "        row_sum = np.sum(dist_x[:, idx])\n",
    "        if row_sum > 0:\n",
    "            dist_x[idx, :] /= row_sum\n",
    "            nonzero_x.append(idx)\n",
    "        \n",
    "        row_sum = np.sum(dist_y[:, idx])\n",
    "        if row_sum > 0:\n",
    "            dist_y[idx, :] /= row_sum\n",
    "            nonzero_y.append(idx)\n",
    "    \n",
    "#     print(nonzero_x, nonzero_y)\n",
    "#     print(nonzero_x, nonzero_y)\n",
    "#     print(dist_x, dist_y)\n",
    "    for cnt_x, elem_x in enumerate(nonzero_x):\n",
    "        xy_corr = []\n",
    "        for cnt_y, elem_y in enumerate(nonzero_y):\n",
    "            xy_corr.append(kl_div_scalar(dist_y[elem_y, :], dist_x[elem_y, :]))\n",
    "#         print(xy_corr)\n",
    "        xy_corr = np.asarray(xy_corr)\n",
    "        loc_pred_ix = np.where(cube_x == elem_x)[0]\n",
    "        loc_pred_iy = np.where(cube_x == elem_x)[1]\n",
    "        loc_pred_iz = np.where(cube_x == elem_x)[2]\n",
    "        replace_x = nonzero_y[int(np.where(xy_corr == np.amin(xy_corr))[0][0])]\n",
    "        for idx in range(len(loc_pred_ix)):\n",
    "#             if ix == 7:\n",
    "#             print(nonzero_y, loc_pred_ix[idx], loc_pred_iy[idx], loc_pred_iz[idx], xy_corr)\n",
    "            pred[loc_pred_ix[idx], loc_pred_iy[idx], loc_pred_iz[idx]] = replace_x\n",
    "#             print(\"-\"*60)\n",
    "        print(elem_x, replace_x)\n",
    "    return pred"
   ]
  },
  {
   "cell_type": "code",
   "execution_count": 126,
   "id": "d682c4fc",
   "metadata": {},
   "outputs": [
    {
     "name": "stdout",
     "output_type": "stream",
     "text": [
      "0\n",
      "1\n",
      "2\n",
      "3\n",
      "4\n",
      "5\n",
      "6\n",
      "7\n",
      "8\n",
      "9\n",
      "10\n",
      "11\n",
      "12\n",
      "13\n",
      "14\n",
      "15\n"
     ]
    }
   ],
   "source": [
    "t2f_replace = np.zeros((t2f_data.shape))\n",
    "for ix in range(256 // 16):\n",
    "    print(ix)\n",
    "    for iy in range(256 // 16):\n",
    "        for iz in range(33 // 3):\n",
    "            cube_x = t2f_data_bin[ix*16:(ix+1)*16, iy*16:(iy+1)*16, iz*3:(iz+1)*3]\n",
    "            cube_y = t1b_data_bin[ix*16:(ix+1)*16, iy*16:(iy+1)*16, iz*3:(iz+1)*3]\n",
    "            t2f_replace[ix*16:(ix+1)*16, iy*16:(iy+1)*16, iz*3:(iz+1)*3] = spatial_pred(cube_x, cube_y)"
   ]
  },
  {
   "cell_type": "code",
   "execution_count": 127,
   "id": "1d33caae",
   "metadata": {},
   "outputs": [],
   "source": [
    "pred_file = nib.Nifti1Image(t2f_replace, t2f_file.affine, t2f_file.header)\n",
    "pred_name = \"./data_dir/unknown/T2F_004_pred.nii.gz\"\n",
    "nib.save(pred_file, pred_name)"
   ]
  },
  {
   "cell_type": "code",
   "execution_count": 15,
   "id": "844493c8",
   "metadata": {},
   "outputs": [
    {
     "name": "stdout",
     "output_type": "stream",
     "text": [
      "(array([0, 1]), array([0, 2]), array([1, 1]))\n",
      "[0 1]\n",
      "[0 2]\n",
      "[1 1]\n"
     ]
    }
   ],
   "source": [
    "test = np.asarray([[[1,2,3],[4,5,6],[7,8,9]], [[4,5,6],[7,8,9],[1,2,3]]])\n",
    "print(np.where(test == 2))\n",
    "print(np.where(test == 2)[0])\n",
    "print(np.where(test == 2)[1])\n",
    "print(np.where(test == 2)[2])"
   ]
  },
  {
   "cell_type": "code",
   "execution_count": null,
   "id": "80b6733b",
   "metadata": {},
   "outputs": [],
   "source": []
  }
 ],
 "metadata": {
  "kernelspec": {
   "display_name": "Python 3 (ipykernel)",
   "language": "python",
   "name": "python3"
  },
  "language_info": {
   "codemirror_mode": {
    "name": "ipython",
    "version": 3
   },
   "file_extension": ".py",
   "mimetype": "text/x-python",
   "name": "python",
   "nbconvert_exporter": "python",
   "pygments_lexer": "ipython3",
   "version": "3.8.11"
  }
 },
 "nbformat": 4,
 "nbformat_minor": 5
}
